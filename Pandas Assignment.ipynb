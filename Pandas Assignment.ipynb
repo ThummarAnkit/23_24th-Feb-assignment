{
 "cells": [
  {
   "cell_type": "markdown",
   "id": "b971e4ee",
   "metadata": {},
   "source": [
    "# Q1. List any five functions of the pandas library with execution."
   ]
  },
  {
   "cell_type": "markdown",
   "id": "c0aaf2be",
   "metadata": {},
   "source": [
    "__Ans. :__<br>\n",
    "\n",
    "1. __dropna():__ This function is used to remove missing or __NaN__ values from a DataFrame."
   ]
  },
  {
   "cell_type": "code",
   "execution_count": 1,
   "id": "d7c9f22c",
   "metadata": {},
   "outputs": [
    {
     "name": "stdout",
     "output_type": "stream",
     "text": [
      "     A    B\n",
      "1  2.0  6.0\n",
      "3  4.0  8.0\n"
     ]
    }
   ],
   "source": [
    "import pandas as pd\n",
    "\n",
    "# Create a DataFrame with missing values\n",
    "df = pd.DataFrame({'A': [1, 2, None, 4],\n",
    "                   'B': [None, 6, 7, 8]})\n",
    "\n",
    "# Drop rows with missing values\n",
    "df = df.dropna()\n",
    "\n",
    "# Display the remaining DataFrame\n",
    "print(df)"
   ]
  },
  {
   "cell_type": "markdown",
   "id": "9c9a9c2d",
   "metadata": {},
   "source": [
    "2. __groupby():__ This function is used to group rows in a DataFrame by one or more columns, and apply an aggregation function to each group."
   ]
  },
  {
   "cell_type": "code",
   "execution_count": 2,
   "id": "2a7e4cd9",
   "metadata": {},
   "outputs": [
    {
     "name": "stdout",
     "output_type": "stream",
     "text": [
      "          Value\n",
      "Category       \n",
      "A           1.5\n",
      "B           4.0\n"
     ]
    }
   ],
   "source": [
    "import pandas as pd\n",
    "\n",
    "# Create a DataFrame\n",
    "df = pd.DataFrame({'Category': ['A', 'A', 'B', 'B', 'B'],\n",
    "                   'Value': [1, 2, 3, 4, 5]})\n",
    "\n",
    "# Group the DataFrame by 'Category' and calculate the mean value for each group\n",
    "grouped = df.groupby('Category').mean()\n",
    "\n",
    "# Display the grouped DataFrame\n",
    "print(grouped)"
   ]
  },
  {
   "cell_type": "markdown",
   "id": "5d8c583b",
   "metadata": {},
   "source": [
    "3. __merge():__ This function is used to merge two DataFrames based on a common column."
   ]
  },
  {
   "cell_type": "code",
   "execution_count": 3,
   "id": "0836e8d3",
   "metadata": {},
   "outputs": [
    {
     "name": "stdout",
     "output_type": "stream",
     "text": [
      "   A  B  C\n",
      "0  2  5  7\n",
      "1  3  6  8\n"
     ]
    }
   ],
   "source": [
    "import pandas as pd\n",
    "\n",
    "# Create two DataFrames\n",
    "df1 = pd.DataFrame({'A': [1, 2, 3],\n",
    "                    'B': [4, 5, 6]})\n",
    "\n",
    "df2 = pd.DataFrame({'A': [2, 3, 4],\n",
    "                    'C': [7, 8, 9]})\n",
    "\n",
    "# Merge the two DataFrames based on the 'A' column\n",
    "merged = pd.merge(df1, df2, on='A')\n",
    "\n",
    "# Display the merged DataFrame\n",
    "print(merged)"
   ]
  },
  {
   "cell_type": "markdown",
   "id": "62e2426b",
   "metadata": {},
   "source": [
    "4. __pivot_table():__ This function is used to create a pivot table from a DataFrame."
   ]
  },
  {
   "cell_type": "code",
   "execution_count": 4,
   "id": "dbab4c53",
   "metadata": {},
   "outputs": [
    {
     "name": "stdout",
     "output_type": "stream",
     "text": [
      "          Value\n",
      "Category       \n",
      "A           1.5\n",
      "B           4.0\n"
     ]
    }
   ],
   "source": [
    "import pandas as pd\n",
    "\n",
    "# Create a DataFrame\n",
    "df = pd.DataFrame({'Category': ['A', 'A', 'B', 'B', 'B'],\n",
    "                   'Value': [1, 2, 3, 4, 5]})\n",
    "\n",
    "# Create a pivot table with 'Category' as the index and the mean value of 'Value' for each category\n",
    "pivot = df.pivot_table(index='Category', values='Value', aggfunc='mean')\n",
    "\n",
    "# Display the pivot table\n",
    "print(pivot)"
   ]
  },
  {
   "cell_type": "markdown",
   "id": "f58019c6",
   "metadata": {},
   "source": [
    "5. Creating a dataframe using __pd.DataFrame()__ function:"
   ]
  },
  {
   "cell_type": "code",
   "execution_count": 6,
   "id": "a88c69b9",
   "metadata": {},
   "outputs": [
    {
     "name": "stdout",
     "output_type": "stream",
     "text": [
      "    Name  Age      City\n",
      "0   John   25  New York\n",
      "1   Sara   28    London\n",
      "2    Bob   22     Paris\n",
      "3  Jenny   30    Sydney\n"
     ]
    }
   ],
   "source": [
    "import pandas as pd\n",
    "\n",
    "data = {'Name': ['John', 'Sara', 'Bob', 'Jenny'], \n",
    "        'Age': [25, 28, 22, 30],\n",
    "        'City': ['New York', 'London', 'Paris', 'Sydney']}\n",
    "df = pd.DataFrame(data)\n",
    "print(df)"
   ]
  },
  {
   "cell_type": "markdown",
   "id": "1c9a0f2b",
   "metadata": {},
   "source": [
    "# Q2. Given a Pandas DataFrame df with columns 'A', 'B', and 'C', write a Python function to re-index the DataFrame with a new index that starts from 1 and increments by 2 for each row."
   ]
  },
  {
   "cell_type": "code",
   "execution_count": 7,
   "id": "3df615b0",
   "metadata": {},
   "outputs": [
    {
     "name": "stdout",
     "output_type": "stream",
     "text": [
      "   A  B  C\n",
      "0  1  4  7\n",
      "1  2  5  8\n",
      "2  3  6  9\n",
      "   A  B  C\n",
      "1  1  4  7\n",
      "3  2  5  8\n",
      "5  3  6  9\n"
     ]
    }
   ],
   "source": [
    "import pandas as pd\n",
    "\n",
    "def reindex_dataframe(df):\n",
    "    new_index = range(1, len(df)*2, 2)\n",
    "    df = df.reset_index(drop=True)\n",
    "    df.index = new_index\n",
    "    return df\n",
    "\n",
    "# create a sample dataframe\n",
    "data = {'A': [1, 2, 3], 'B': [4, 5, 6], 'C': [7, 8, 9]}\n",
    "df = pd.DataFrame(data)\n",
    "\n",
    "# reindex the dataframe\n",
    "new_df = reindex_dataframe(df)\n",
    "print(df)\n",
    "print(new_df)"
   ]
  },
  {
   "cell_type": "markdown",
   "id": "77dca396",
   "metadata": {},
   "source": [
    "# Q3. You have a Pandas DataFrame df with a column named 'Values'. Write a Python function that iterates over the DataFrame and calculates the sum of the first three values in the 'Values' column. The function should print the sum to the console.\n",
    "For example, if the 'Values' column of df contains the values __[10, 20, 30, 40, 50]__, your function should\n",
    "calculate and print the sum of the first three values, which is 60."
   ]
  },
  {
   "cell_type": "code",
   "execution_count": 8,
   "id": "7070f200",
   "metadata": {},
   "outputs": [
    {
     "name": "stdout",
     "output_type": "stream",
     "text": [
      "Sum of the first three values: 60\n"
     ]
    }
   ],
   "source": [
    "import pandas as pd\n",
    "\n",
    "def sum_first_three_values(df):\n",
    "    sum = 0\n",
    "    for i in range(3):\n",
    "        sum += df.loc[i, 'Values']\n",
    "    print('Sum of the first three values:', sum)\n",
    "\n",
    "# create a sample dataframe\n",
    "data = {'Values': [10, 20, 30, 40, 50]}\n",
    "df = pd.DataFrame(data)\n",
    "\n",
    "# calculate the sum of the first three values\n",
    "sum_first_three_values(df)"
   ]
  },
  {
   "cell_type": "markdown",
   "id": "46429ce2",
   "metadata": {},
   "source": [
    "# Q4. Given a Pandas DataFrame df with a column 'Text', write a Python function to create a new column 'Word_Count' that contains the number of words in each row of the 'Text' column."
   ]
  },
  {
   "cell_type": "code",
   "execution_count": 9,
   "id": "8c2214ff",
   "metadata": {},
   "outputs": [
    {
     "name": "stdout",
     "output_type": "stream",
     "text": [
      "                   Text  Word_Count\n",
      "0    This is a sentence           4\n",
      "1      Another sentence           2\n",
      "2  And a third sentence           4\n"
     ]
    }
   ],
   "source": [
    "import pandas as pd\n",
    "\n",
    "def add_word_count_column(df):\n",
    "    df['Word_Count'] = df['Text'].str.split().apply(len)\n",
    "    return df\n",
    "\n",
    "# create a sample dataframe\n",
    "data = {'Text': ['This is a sentence', 'Another sentence', 'And a third sentence']}\n",
    "df = pd.DataFrame(data)\n",
    "\n",
    "# add the word count column\n",
    "df = add_word_count_column(df)\n",
    "\n",
    "print(df)"
   ]
  },
  {
   "cell_type": "markdown",
   "id": "b1dbe848",
   "metadata": {},
   "source": [
    "# Q5. How are DataFrame.size() and DataFrame.shape() different?"
   ]
  },
  {
   "cell_type": "markdown",
   "id": "6a193c36",
   "metadata": {},
   "source": [
    "__Ans. :__<br>\n",
    "\n",
    "Both __DataFrame.size__ and __DataFrame.shape__ are attributes of Pandas DataFrame that are used to obtain information about the size and shape of the DataFrame. However, they provide different information about the DataFrame.\n",
    "\n",
    "__DataFrame.size__ returns the number of elements in the DataFrame, which is equal to the number of rows multiplied by the number of columns. It does not provide any information about the shape or dimensions of the DataFrame.\n",
    "\n",
    "On the other hand, __DataFrame.shape__ returns a tuple of two integers, which represent the number of rows and columns in the DataFrame, respectively. So, __DataFrame.shape__ provides information about the shape or dimensions of the DataFrame."
   ]
  },
  {
   "cell_type": "markdown",
   "id": "642bf84c",
   "metadata": {},
   "source": [
    "# Q6. Which function of pandas do we use to read an excel file?"
   ]
  },
  {
   "cell_type": "markdown",
   "id": "660e0e72",
   "metadata": {},
   "source": [
    "__Ans. :__<br>\n",
    "\n",
    "We can use the __read_excel()__ function of pandas to read an Excel file into a pandas DataFrame. This function allows us to read both XLS and XLSX files."
   ]
  },
  {
   "cell_type": "markdown",
   "id": "8f87c34a",
   "metadata": {},
   "source": [
    "# Q7. You have a Pandas DataFrame df that contains a column named 'Email' that contains email addresses in the format 'username@domain.com'. Write a Python function that creates a new column 'Username' in df that contains only the username part of each email address.\n",
    "\n",
    "The username is the part of the email address that appears before the __'@'__ symbol. For example, if the\n",
    "email address is __'john.doe@example.com'__, the __'Username'__ column should contain __'john.doe'__. Your\n",
    "function should extract the username from each email address and store it in the new __'Username'__\n",
    "column."
   ]
  },
  {
   "cell_type": "code",
   "execution_count": 10,
   "id": "57bf1c9e",
   "metadata": {},
   "outputs": [
    {
     "name": "stdout",
     "output_type": "stream",
     "text": [
      "                     Email     Username\n",
      "0     john.doe@example.com     john.doe\n",
      "1   jane.smith@example.com   jane.smith\n",
      "2  bob.johnson@example.com  bob.johnson\n"
     ]
    }
   ],
   "source": [
    "import pandas as pd\n",
    "\n",
    "def extract_username(df):\n",
    "    # extract username from email address\n",
    "    df['Username'] = df['Email'].str.split('@').str[0]\n",
    "    return df\n",
    "\n",
    "# create a sample DataFrame with 'Email' column\n",
    "data = {'Email': ['john.doe@example.com', 'jane.smith@example.com', 'bob.johnson@example.com']}\n",
    "df = pd.DataFrame(data)\n",
    "\n",
    "# call the extract_username function\n",
    "df = extract_username(df)\n",
    "\n",
    "# print the updated DataFrame\n",
    "print(df)"
   ]
  },
  {
   "cell_type": "markdown",
   "id": "3a0c9198",
   "metadata": {},
   "source": [
    "# Q8. You have a Pandas DataFrame df with columns 'A', 'B', and 'C'. Write a Python function that selects all rows where the value in column 'A' is greater than 5 and the value in column 'B' is less than 10. The function should return a new DataFrame that contains only the selected rows."
   ]
  },
  {
   "cell_type": "code",
   "execution_count": null,
   "id": "617ceee2",
   "metadata": {},
   "outputs": [],
   "source": [
    "For example, if df contains the following values:\n",
    "A B C\n",
    "0 3 5 1\n",
    "1 8 2 7\n",
    "2 6 9 4\n",
    "3 2 3 5\n",
    "4 9 1 2\n",
    "\n",
    "Your function should select the following rows: A B C\n",
    "1 8 2 7\n",
    "4 9 1 2\n",
    "The function should return a new DataFrame that contains only the selected rows."
   ]
  },
  {
   "cell_type": "code",
   "execution_count": 11,
   "id": "48b1120a",
   "metadata": {},
   "outputs": [
    {
     "name": "stdout",
     "output_type": "stream",
     "text": [
      "   A  B  C\n",
      "1  8  2  7\n",
      "2  6  9  4\n",
      "4  9  1  2\n"
     ]
    }
   ],
   "source": [
    "import pandas as pd\n",
    "\n",
    "def select_rows(df):\n",
    "    # select rows based on condition\n",
    "    selected_rows = df[(df['A'] > 5) & (df['B'] < 10)]\n",
    "    return selected_rows\n",
    "\n",
    "# create a sample DataFrame\n",
    "data = {'A': [3, 8, 6, 2, 9], 'B': [5, 2, 9, 3, 1], 'C': [1, 7, 4, 5, 2]}\n",
    "df = pd.DataFrame(data)\n",
    "\n",
    "# call the select_rows function\n",
    "selected_rows = select_rows(df)\n",
    "\n",
    "# print the selected rows\n",
    "print(selected_rows)"
   ]
  },
  {
   "cell_type": "markdown",
   "id": "0b340e20",
   "metadata": {},
   "source": [
    "# Q9. Given a Pandas DataFrame df with a column 'Values', write a Python function to calculate the mean, median, and standard deviation of the values in the 'Values' column."
   ]
  },
  {
   "cell_type": "code",
   "execution_count": 12,
   "id": "3ad620ce",
   "metadata": {},
   "outputs": [
    {
     "name": "stdout",
     "output_type": "stream",
     "text": [
      "Mean: 3.0\n",
      "Median: 3.0\n",
      "Standard Deviation: 1.5811388300841898\n"
     ]
    }
   ],
   "source": [
    "import pandas as pd\n",
    "\n",
    "def calculate_statistics(df):\n",
    "    # calculate mean, median, and standard deviation\n",
    "    mean = df['Values'].mean()\n",
    "    median = df['Values'].median()\n",
    "    std_dev = df['Values'].std()\n",
    "    \n",
    "    # print the results\n",
    "    print(\"Mean:\", mean)\n",
    "    print(\"Median:\", median)\n",
    "    print(\"Standard Deviation:\", std_dev)\n",
    "\n",
    "# create a sample DataFrame\n",
    "data = {'Values': [1, 2, 3, 4, 5]}\n",
    "df = pd.DataFrame(data)\n",
    "\n",
    "# call the calculate_statistics function\n",
    "calculate_statistics(df)"
   ]
  },
  {
   "cell_type": "markdown",
   "id": "17a2f83d",
   "metadata": {},
   "source": [
    "# Q10. Given a Pandas DataFrame df with a column 'Sales' and a column 'Date', write a Python function to create a new column 'MovingAverage' that contains the moving average of the sales for the past 7 days for each row in the DataFrame. The moving average should be calculated using a window of size 7 and should include the current day."
   ]
  },
  {
   "cell_type": "code",
   "execution_count": 13,
   "id": "5c63eca0",
   "metadata": {},
   "outputs": [
    {
     "name": "stdout",
     "output_type": "stream",
     "text": [
      "        Date  Sales  MovingAverage\n",
      "0 2022-01-01     10           10.0\n",
      "1 2022-01-02     15           12.5\n",
      "2 2022-01-03     20           15.0\n",
      "3 2022-01-04     25           17.5\n",
      "4 2022-01-05     30           20.0\n",
      "5 2022-01-06     35           22.5\n",
      "6 2022-01-07     40           25.0\n",
      "7 2022-01-08     45           30.0\n",
      "8 2022-01-09     50           35.0\n",
      "9 2022-01-10     55           40.0\n"
     ]
    }
   ],
   "source": [
    "import pandas as pd\n",
    "\n",
    "def add_moving_average(df):\n",
    "    # calculate moving average using a window of size 7 and include current day\n",
    "    ma = df['Sales'].rolling(window=7, min_periods=1).mean()\n",
    "    \n",
    "    # add moving average as a new column in the DataFrame\n",
    "    df['MovingAverage'] = ma\n",
    "    \n",
    "    # return the modified DataFrame\n",
    "    return df\n",
    "\n",
    "# create a sample DataFrame\n",
    "data = {'Date': pd.date_range('2022-01-01', '2022-01-10'), 'Sales': [10, 15, 20, 25, 30, 35, 40, 45, 50, 55]}\n",
    "df = pd.DataFrame(data)\n",
    "\n",
    "# call the add_moving_average function\n",
    "df = add_moving_average(df)\n",
    "\n",
    "# print the modified DataFrame\n",
    "print(df)"
   ]
  },
  {
   "cell_type": "markdown",
   "id": "4ef58646",
   "metadata": {},
   "source": [
    "# Q11. You have a Pandas DataFrame df with a column 'Date'. Write a Python function that creates a new column 'Weekday' in the DataFrame. The 'Weekday' column should contain the weekday name (e.g. Monday, Tuesday) corresponding to each date in the 'Date' column."
   ]
  },
  {
   "cell_type": "code",
   "execution_count": null,
   "id": "b5d874cd",
   "metadata": {},
   "outputs": [],
   "source": [
    "For example, if df contains the following values:\n",
    "Date\n",
    "0 2023-01-01\n",
    "1 2023-01-02\n",
    "2 2023-01-03\n",
    "3 2023-01-04\n",
    "4 2023-01-05\n",
    "Your function should create the following DataFrame:\n",
    "\n",
    "Date Weekday\n",
    "0 2023-01-01 Sunday\n",
    "1 2023-01-02 Monday\n",
    "2 2023-01-03 Tuesday\n",
    "3 2023-01-04 Wednesday\n",
    "4 2023-01-05 Thursday\n",
    "The function should return the modified DataFrame."
   ]
  },
  {
   "cell_type": "code",
   "execution_count": 27,
   "id": "87e2fbab",
   "metadata": {},
   "outputs": [
    {
     "name": "stdout",
     "output_type": "stream",
     "text": [
      "        Date    Weekday\n",
      "0 2023-01-01     Sunday\n",
      "1 2023-01-02     Monday\n",
      "2 2023-01-03    Tuesday\n",
      "3 2023-01-04  Wednesday\n",
      "4 2023-01-05   Thursday\n"
     ]
    }
   ],
   "source": [
    "import pandas as pd\n",
    "\n",
    "def add_weekday(df):\n",
    "    df['Weekday'] = df['Date'].dt.day_name()\n",
    "    return df\n",
    "\n",
    "df = pd.DataFrame({'Date': ['2023-01-01', '2023-01-02', '2023-01-03', '2023-01-04', '2023-01-05']})\n",
    "df['Date'] = pd.to_datetime(df['Date'])\n",
    "df = add_weekday(df)\n",
    "print(df)"
   ]
  },
  {
   "cell_type": "markdown",
   "id": "5e39cbc7",
   "metadata": {},
   "source": [
    "# Q12. Given a Pandas DataFrame df with a column 'Date' that contains timestamps, write a Python function to select all rows where the date is between '2023-01-01' and '2023-01-31'."
   ]
  },
  {
   "cell_type": "code",
   "execution_count": 25,
   "id": "a220805a",
   "metadata": {},
   "outputs": [
    {
     "name": "stdout",
     "output_type": "stream",
     "text": [
      "         Date\n",
      "0  2023-01-01\n",
      "1  2023-01-02\n",
      "2  2023-05-02\n",
      "3  2023-05-19\n",
      "4  2023-05-21\n",
      "         Date\n",
      "0  2023-01-01\n",
      "1  2023-01-02\n"
     ]
    }
   ],
   "source": [
    "import pandas as pd\n",
    "\n",
    "def select_rows_between_dates(df):\n",
    "    start_date = '2023-01-01'\n",
    "    end_date = '2023-01-31'\n",
    "    mask = (df['Date'] >= start_date) & (df['Date'] <= end_date)\n",
    "    selected_rows = df.loc[mask]\n",
    "    return selected_rows\n",
    "\n",
    "df = pd.DataFrame({'Date': ['2023-01-01', '2023-01-02', '2023-05-02', '2023-05-19', '2023-05-21']})\n",
    "selected_rows = select_rows_between_dates(df)\n",
    "print(df)\n",
    "print(selected_rows)"
   ]
  },
  {
   "cell_type": "markdown",
   "id": "60a21069",
   "metadata": {},
   "source": [
    "# Q13. To use the basic functions of pandas, what is the first and foremost necessary library that needs to be imported?"
   ]
  },
  {
   "cell_type": "markdown",
   "id": "2ba928a2",
   "metadata": {},
   "source": [
    "__Ans. :__<br>\n",
    "\n",
    "To use the basic functions of pandas, the first and foremost necessary library that needs to be imported is pandas itself. You can import it using the following command:"
   ]
  },
  {
   "cell_type": "code",
   "execution_count": 28,
   "id": "6deeb07c",
   "metadata": {},
   "outputs": [],
   "source": [
    "import pandas as pd"
   ]
  },
  {
   "cell_type": "code",
   "execution_count": null,
   "id": "73bf2e9c",
   "metadata": {},
   "outputs": [],
   "source": []
  }
 ],
 "metadata": {
  "kernelspec": {
   "display_name": "Python 3 (ipykernel)",
   "language": "python",
   "name": "python3"
  },
  "language_info": {
   "codemirror_mode": {
    "name": "ipython",
    "version": 3
   },
   "file_extension": ".py",
   "mimetype": "text/x-python",
   "name": "python",
   "nbconvert_exporter": "python",
   "pygments_lexer": "ipython3",
   "version": "3.9.7"
  }
 },
 "nbformat": 4,
 "nbformat_minor": 5
}
